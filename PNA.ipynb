{
 "cells": [
  {
   "cell_type": "markdown",
   "id": "126c5b5c",
   "metadata": {},
   "source": [
    "Importing all required modules from Parsing to Visualizing."
   ]
  },
  {
   "cell_type": "code",
   "execution_count": null,
   "id": "f3c42b0d",
   "metadata": {},
   "outputs": [],
   "source": [
    "import os\n",
    "from Bio.PDB import PDBParser\n",
    "import networkx as nx \n",
    "import matplotlib.pyplot as plt \n",
    "from itertools import combinations\n",
    "import numpy as np \n",
    "\n",
    "try:\n",
    "    import py3Dmol\n",
    "    py3Dmol_installed = True\n",
    "except:\n",
    "    py3Dmol_installed = False\n",
    "\n",
    "print(\"Packages loaded and py3Dmol installed:\", py3Dmol_installed)"
   ]
  },
  {
   "cell_type": "markdown",
   "id": "688c4aef",
   "metadata": {},
   "source": [
    "Parsing a .pdb file."
   ]
  },
  {
   "cell_type": "code",
   "execution_count": null,
   "id": "45b37dbb",
   "metadata": {},
   "outputs": [],
   "source": [
    "pdb_file = \"1CRN.pdb\"\n",
    "parser = PDBParser(QUIET=True)\n",
    "structure = parser.get_structure(\"protein\",pdb_file)"
   ]
  },
  {
   "cell_type": "markdown",
   "id": "6455f252",
   "metadata": {},
   "source": [
    "Extracting the residues and their 3D coordinates from the PDB structure."
   ]
  },
  {
   "cell_type": "code",
   "execution_count": null,
   "id": "eb62630b",
   "metadata": {},
   "outputs": [],
   "source": [
    "residues = []\n",
    "for model in structure:\n",
    "    for chain in model:\n",
    "        for residue in chain:\n",
    "            if 'CA' in residue:\n",
    "                ca=residue['CA']\n",
    "                residues.append((chain.id, residue.id[1], ca.get_coord()))\n",
    "\n",
    "print(f\"loaded {len(residues)} residues. \")"
   ]
  },
  {
   "cell_type": "markdown",
   "id": "5d9ebf59",
   "metadata": {},
   "source": [
    "Build a residue interaction network: add nodes for residues, connect pairs within 5 Å, and store distances as edge weights."
   ]
  },
  {
   "cell_type": "code",
   "execution_count": null,
   "id": "e305ad05",
   "metadata": {},
   "outputs": [],
   "source": [
    "cutoff = 5.0 #In Angstroms\n",
    "G = nx.Graph()\n",
    "\n",
    "for chain_id, res_id, coord in residues:\n",
    "    G.add_node((chain_id, res_id), coord=coord)\n",
    "\n",
    "for (n1,n2) in combinations(G.nodes, 2):\n",
    "    coord1 = G.nodes[n1]['coord']\n",
    "    coord2 = G.nodes[n2]['coord']\n",
    "    distance = np.linalg.norm(coord1 -coord2)\n",
    "    if distance <= cutoff:\n",
    "        G.add_edge(n1,n2, weight=distance)\n",
    "\n",
    "print(f\"Graph created with {G.number_of_nodes()} nodes and {G.number_of_edges()} edges.\")\n"
   ]
  },
  {
   "cell_type": "markdown",
   "id": "2b2f6768",
   "metadata": {},
   "source": [
    "Computing node degree and betweenness centrality, then display the top 10 residues for each metric."
   ]
  },
  {
   "cell_type": "code",
   "execution_count": null,
   "id": "503f6458",
   "metadata": {},
   "outputs": [],
   "source": [
    "degree_dict = dict(G.degree())\n",
    "betweenness_dict = nx.betweenness_centrality(G) \n",
    "\n",
    "top_degree = sorted(degree_dict.items(), key=lambda x: x[1], reverse=True)[:10]\n",
    "print(\"Top 10 residues by degree: \", top_degree)\n",
    "\n",
    "top_betweeness = sorted(betweenness_dict.items(), key=lambda x: x[1], reverse=True)[:10]\n",
    "print(\"Top 10 residues by betweenness: \", top_betweeness)"
   ]
  },
  {
   "cell_type": "markdown",
   "id": "0b3dfee0",
   "metadata": {},
   "source": [
    "Extracting just the node identifiers for the top residues by degree and betweenness centrality.\n"
   ]
  },
  {
   "cell_type": "code",
   "execution_count": null,
   "id": "9faa8776",
   "metadata": {},
   "outputs": [],
   "source": [
    "top_degree_nodes = [node for node, _ in top_degree]\n",
    "top_betweenness_nodes = [node for node, _ in top_betweeness]"
   ]
  },
  {
   "cell_type": "markdown",
   "id": "0ee8928b",
   "metadata": {},
   "source": [
    "Assigning colors and sizes to nodes: orange for top-degree hubs, red for top-betweenness bottlenecks, skyblue for others."
   ]
  },
  {
   "cell_type": "code",
   "execution_count": null,
   "id": "50534cbd",
   "metadata": {},
   "outputs": [],
   "source": [
    "node_colors = []\n",
    "node_sizes = []\n",
    "\n",
    "for node in G.nodes():\n",
    "    if node in top_degree_nodes:\n",
    "        node_colors.append('orange')   # hubs\n",
    "        node_sizes.append(500)\n",
    "    elif node in top_betweenness_nodes:\n",
    "        node_colors.append('red')      # bottlenecks\n",
    "        node_sizes.append(450)\n",
    "    else:\n",
    "        node_colors.append('skyblue')  # normal residues\n",
    "        node_sizes.append(300)\n"
   ]
  },
  {
   "cell_type": "markdown",
   "id": "443055b1",
   "metadata": {},
   "source": [
    "Visualizing the protein residue interaction network in 2D, highlighting hubs and bottlenecks with custom colors and sizes."
   ]
  },
  {
   "cell_type": "code",
   "execution_count": null,
   "id": "5cd08e12",
   "metadata": {},
   "outputs": [],
   "source": [
    "plt.figure(figsize=(12, 10))\n",
    "pos = nx.spring_layout(G, seed=42)\n",
    "\n",
    "nx.draw(\n",
    "    G,\n",
    "    pos,\n",
    "    with_labels=True,\n",
    "    labels={node: node[1] for node in G.nodes()},  # residue numbers\n",
    "    node_color=node_colors,\n",
    "    node_size=node_sizes,\n",
    "    font_size=10,\n",
    "    width=1.5\n",
    ")\n",
    "\n",
    "plt.title(\"Protein Residue Interaction Network (Top Residues Highlighted)\")\n",
    "plt.axis('off')\n",
    "plt.show()\n"
   ]
  },
  {
   "cell_type": "markdown",
   "id": "0feeb668",
   "metadata": {},
   "source": [
    "Visualizing the 3D protein structure with Py3Dmol, coloring top-degree residues orange and top-betweenness residues red."
   ]
  },
  {
   "cell_type": "code",
   "execution_count": null,
   "id": "e620418e",
   "metadata": {},
   "outputs": [],
   "source": [
    "import py3Dmol\n",
    "\n",
    "view = py3Dmol.view(query='pdb:1CRN')  # or use your local PDB file\n",
    "view.setStyle({'cartoon': {'color':'lightgrey'}})\n",
    "\n",
    "# Highlighting by degree\n",
    "for node in top_degree_nodes:\n",
    "    chain, res_id = node\n",
    "    view.addStyle({'chain': chain, 'resi': res_id}, {'stick': {'color':'orange'}})\n",
    "\n",
    "# Highlighting by betweenness\n",
    "for node in top_betweenness_nodes:\n",
    "    chain, res_id = node\n",
    "    view.addStyle({'chain': chain, 'resi': res_id}, {'stick': {'color':'red'}})\n",
    "\n",
    "view.zoomTo()\n",
    "view.show()\n"
   ]
  },
  {
   "cell_type": "markdown",
   "id": "723414c9",
   "metadata": {},
   "source": [
    "Printing the total number of nodes and edges in the residue interaction network."
   ]
  },
  {
   "cell_type": "code",
   "execution_count": null,
   "id": "f8a227a3",
   "metadata": {},
   "outputs": [],
   "source": [
    "print(\"Number of nodes:\", G.number_of_nodes())\n",
    "print(\"Number of edges:\", G.number_of_edges())\n"
   ]
  }
 ],
 "metadata": {
  "kernelspec": {
   "display_name": "venv",
   "language": "python",
   "name": "python3"
  },
  "language_info": {
   "codemirror_mode": {
    "name": "ipython",
    "version": 3
   },
   "file_extension": ".py",
   "mimetype": "text/x-python",
   "name": "python",
   "nbconvert_exporter": "python",
   "pygments_lexer": "ipython3",
   "version": "3.13.7"
  }
 },
 "nbformat": 4,
 "nbformat_minor": 5
}
